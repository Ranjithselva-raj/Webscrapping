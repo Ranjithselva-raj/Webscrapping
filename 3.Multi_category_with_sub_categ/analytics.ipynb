{
 "cells": [
  {
   "cell_type": "code",
   "execution_count": 8,
   "metadata": {},
   "outputs": [],
   "source": [
    "import pandas as pd\n",
    "import json\n",
    "with open (\"C:\\\\Users\\\\ranje\\\\OneDrive\\\\D_Folder\\\\Webscrapping\\\\4.Wildcraft_scrappy\\\\product_data.json\") as file:\n",
    "    data = json.load(file)\n",
    "df = pd.DataFrame(data)\n",
    "fd = pd.DataFrame(data)"
   ]
  },
  {
   "cell_type": "code",
   "execution_count": 14,
   "metadata": {},
   "outputs": [
    {
     "data": {
      "text/html": [
       "<div>\n",
       "<style scoped>\n",
       "    .dataframe tbody tr th:only-of-type {\n",
       "        vertical-align: middle;\n",
       "    }\n",
       "\n",
       "    .dataframe tbody tr th {\n",
       "        vertical-align: top;\n",
       "    }\n",
       "\n",
       "    .dataframe thead th {\n",
       "        text-align: right;\n",
       "    }\n",
       "</style>\n",
       "<table border=\"1\" class=\"dataframe\">\n",
       "  <thead>\n",
       "    <tr style=\"text-align: right;\">\n",
       "      <th></th>\n",
       "      <th>Product Name</th>\n",
       "      <th>Price</th>\n",
       "      <th>Discount</th>\n",
       "      <th>Url</th>\n",
       "    </tr>\n",
       "  </thead>\n",
       "  <tbody>\n",
       "    <tr>\n",
       "      <th>0</th>\n",
       "      <td>Men Hypadry Rain Suite-Olive</td>\n",
       "      <td>₹1,199</td>\n",
       "      <td>(50% OFF)</td>\n",
       "      <td>https://wildcraft.com/media/catalog/product/1/...</td>\n",
       "    </tr>\n",
       "    <tr>\n",
       "      <th>1</th>\n",
       "      <td>Men Hypadry RainSuite-Maroon</td>\n",
       "      <td>₹1,224</td>\n",
       "      <td>(50% OFF)</td>\n",
       "      <td>https://wildcraft.com/media/catalog/product/1/...</td>\n",
       "    </tr>\n",
       "  </tbody>\n",
       "</table>\n",
       "</div>"
      ],
      "text/plain": [
       "                   Product Name   Price   Discount  \\\n",
       "0  Men Hypadry Rain Suite-Olive  ₹1,199  (50% OFF)   \n",
       "1  Men Hypadry RainSuite-Maroon  ₹1,224  (50% OFF)   \n",
       "\n",
       "                                                 Url  \n",
       "0  https://wildcraft.com/media/catalog/product/1/...  \n",
       "1  https://wildcraft.com/media/catalog/product/1/...  "
      ]
     },
     "execution_count": 14,
     "metadata": {},
     "output_type": "execute_result"
    }
   ],
   "source": [
    "df.head(2)"
   ]
  },
  {
   "cell_type": "code",
   "execution_count": 22,
   "metadata": {},
   "outputs": [
    {
     "name": "stdout",
     "output_type": "stream",
     "text": [
      "179\n"
     ]
    }
   ],
   "source": [
    "count_of_rows = df[df['Price'].isna()]\n",
    "print(len(count_of_rows))"
   ]
  },
  {
   "cell_type": "code",
   "execution_count": 12,
   "metadata": {},
   "outputs": [],
   "source": [
    "import re\n",
    "extract_format = lambda s : '-'.join([str(i) for i in re.findall(r'\\d+', s)]) if s else 0\n"
   ]
  },
  {
   "cell_type": "code",
   "execution_count": 17,
   "metadata": {},
   "outputs": [],
   "source": [
    "df['Savings %'] = df['Savings'].apply(extract_format)"
   ]
  },
  {
   "cell_type": "code",
   "execution_count": 18,
   "metadata": {},
   "outputs": [
    {
     "data": {
      "text/html": [
       "<div>\n",
       "<style scoped>\n",
       "    .dataframe tbody tr th:only-of-type {\n",
       "        vertical-align: middle;\n",
       "    }\n",
       "\n",
       "    .dataframe tbody tr th {\n",
       "        vertical-align: top;\n",
       "    }\n",
       "\n",
       "    .dataframe thead th {\n",
       "        text-align: right;\n",
       "    }\n",
       "</style>\n",
       "<table border=\"1\" class=\"dataframe\">\n",
       "  <thead>\n",
       "    <tr style=\"text-align: right;\">\n",
       "      <th></th>\n",
       "      <th>Name</th>\n",
       "      <th>Price</th>\n",
       "      <th>Savings</th>\n",
       "      <th>Image</th>\n",
       "      <th>Savings %</th>\n",
       "    </tr>\n",
       "  </thead>\n",
       "  <tbody>\n",
       "    <tr>\n",
       "      <th>0</th>\n",
       "      <td>junction seat wedge</td>\n",
       "      <td>$13.93 - $16.93</td>\n",
       "      <td>save 32% - 44%</td>\n",
       "      <td>https://www.rei.com/media/f6a65cd4-9ad3-4c9a-8...</td>\n",
       "      <td>32-44</td>\n",
       "    </tr>\n",
       "    <tr>\n",
       "      <th>1</th>\n",
       "      <td>top tube phone bag</td>\n",
       "      <td>$16.73</td>\n",
       "      <td>save 33%</td>\n",
       "      <td>https://www.rei.com/media/1e319b93-d0d1-4b3f-a...</td>\n",
       "      <td>33</td>\n",
       "    </tr>\n",
       "    <tr>\n",
       "      <th>2</th>\n",
       "      <td>junction top tube bag</td>\n",
       "      <td>$20.93</td>\n",
       "      <td>None</td>\n",
       "      <td>https://www.rei.com/media/ed4b6713-ca65-4d76-b...</td>\n",
       "      <td>0</td>\n",
       "    </tr>\n",
       "    <tr>\n",
       "      <th>3</th>\n",
       "      <td>junction stem bag</td>\n",
       "      <td>$20.93</td>\n",
       "      <td>save 30%</td>\n",
       "      <td>https://www.rei.com/media/32d3ed05-ac58-4859-8...</td>\n",
       "      <td>30</td>\n",
       "    </tr>\n",
       "    <tr>\n",
       "      <th>4</th>\n",
       "      <td>10-in-1 multi-tool</td>\n",
       "      <td>$17.73</td>\n",
       "      <td>save 29%</td>\n",
       "      <td>https://www.rei.com/media/cbbe1afe-22bc-49eb-a...</td>\n",
       "      <td>29</td>\n",
       "    </tr>\n",
       "  </tbody>\n",
       "</table>\n",
       "</div>"
      ],
      "text/plain": [
       "                    Name            Price         Savings  \\\n",
       "0    junction seat wedge  $13.93 - $16.93  save 32% - 44%   \n",
       "1     top tube phone bag           $16.73        save 33%   \n",
       "2  junction top tube bag           $20.93            None   \n",
       "3      junction stem bag           $20.93        save 30%   \n",
       "4     10-in-1 multi-tool           $17.73        save 29%   \n",
       "\n",
       "                                               Image Savings %  \n",
       "0  https://www.rei.com/media/f6a65cd4-9ad3-4c9a-8...     32-44  \n",
       "1  https://www.rei.com/media/1e319b93-d0d1-4b3f-a...        33  \n",
       "2  https://www.rei.com/media/ed4b6713-ca65-4d76-b...         0  \n",
       "3  https://www.rei.com/media/32d3ed05-ac58-4859-8...        30  \n",
       "4  https://www.rei.com/media/cbbe1afe-22bc-49eb-a...        29  "
      ]
     },
     "execution_count": 18,
     "metadata": {},
     "output_type": "execute_result"
    }
   ],
   "source": [
    "df.head()"
   ]
  },
  {
   "cell_type": "code",
   "execution_count": 19,
   "metadata": {},
   "outputs": [],
   "source": [
    "format =[]\n",
    "for i in fd['Savings']:\n",
    "    if i:\n",
    "        numbers = re.findall(r'\\d+', i)\n",
    "        format.append('-'.join(numbers))\n",
    "    else:\n",
    "        format.append(0)\n"
   ]
  },
  {
   "cell_type": "code",
   "execution_count": 20,
   "metadata": {},
   "outputs": [],
   "source": [
    "fd['Savings %'] = format"
   ]
  },
  {
   "cell_type": "code",
   "execution_count": 22,
   "metadata": {},
   "outputs": [
    {
     "data": {
      "text/html": [
       "<div>\n",
       "<style scoped>\n",
       "    .dataframe tbody tr th:only-of-type {\n",
       "        vertical-align: middle;\n",
       "    }\n",
       "\n",
       "    .dataframe tbody tr th {\n",
       "        vertical-align: top;\n",
       "    }\n",
       "\n",
       "    .dataframe thead th {\n",
       "        text-align: right;\n",
       "    }\n",
       "</style>\n",
       "<table border=\"1\" class=\"dataframe\">\n",
       "  <thead>\n",
       "    <tr style=\"text-align: right;\">\n",
       "      <th></th>\n",
       "      <th>Name</th>\n",
       "      <th>Price</th>\n",
       "      <th>Savings</th>\n",
       "      <th>Image</th>\n",
       "      <th>Savings %</th>\n",
       "    </tr>\n",
       "  </thead>\n",
       "  <tbody>\n",
       "    <tr>\n",
       "      <th>0</th>\n",
       "      <td>junction seat wedge</td>\n",
       "      <td>$13.93 - $16.93</td>\n",
       "      <td>save 32% - 44%</td>\n",
       "      <td>https://www.rei.com/media/f6a65cd4-9ad3-4c9a-8...</td>\n",
       "      <td>32-44</td>\n",
       "    </tr>\n",
       "    <tr>\n",
       "      <th>1</th>\n",
       "      <td>top tube phone bag</td>\n",
       "      <td>$16.73</td>\n",
       "      <td>save 33%</td>\n",
       "      <td>https://www.rei.com/media/1e319b93-d0d1-4b3f-a...</td>\n",
       "      <td>33</td>\n",
       "    </tr>\n",
       "    <tr>\n",
       "      <th>2</th>\n",
       "      <td>junction top tube bag</td>\n",
       "      <td>$20.93</td>\n",
       "      <td>None</td>\n",
       "      <td>https://www.rei.com/media/ed4b6713-ca65-4d76-b...</td>\n",
       "      <td>0</td>\n",
       "    </tr>\n",
       "    <tr>\n",
       "      <th>3</th>\n",
       "      <td>junction stem bag</td>\n",
       "      <td>$20.93</td>\n",
       "      <td>save 30%</td>\n",
       "      <td>https://www.rei.com/media/32d3ed05-ac58-4859-8...</td>\n",
       "      <td>30</td>\n",
       "    </tr>\n",
       "    <tr>\n",
       "      <th>4</th>\n",
       "      <td>10-in-1 multi-tool</td>\n",
       "      <td>$17.73</td>\n",
       "      <td>save 29%</td>\n",
       "      <td>https://www.rei.com/media/cbbe1afe-22bc-49eb-a...</td>\n",
       "      <td>29</td>\n",
       "    </tr>\n",
       "  </tbody>\n",
       "</table>\n",
       "</div>"
      ],
      "text/plain": [
       "                    Name            Price         Savings  \\\n",
       "0    junction seat wedge  $13.93 - $16.93  save 32% - 44%   \n",
       "1     top tube phone bag           $16.73        save 33%   \n",
       "2  junction top tube bag           $20.93            None   \n",
       "3      junction stem bag           $20.93        save 30%   \n",
       "4     10-in-1 multi-tool           $17.73        save 29%   \n",
       "\n",
       "                                               Image Savings %  \n",
       "0  https://www.rei.com/media/f6a65cd4-9ad3-4c9a-8...     32-44  \n",
       "1  https://www.rei.com/media/1e319b93-d0d1-4b3f-a...        33  \n",
       "2  https://www.rei.com/media/ed4b6713-ca65-4d76-b...         0  \n",
       "3  https://www.rei.com/media/32d3ed05-ac58-4859-8...        30  \n",
       "4  https://www.rei.com/media/cbbe1afe-22bc-49eb-a...        29  "
      ]
     },
     "execution_count": 22,
     "metadata": {},
     "output_type": "execute_result"
    }
   ],
   "source": [
    "fd.head()"
   ]
  },
  {
   "cell_type": "code",
   "execution_count": null,
   "metadata": {},
   "outputs": [],
   "source": []
  }
 ],
 "metadata": {
  "kernelspec": {
   "display_name": "Python 3",
   "language": "python",
   "name": "python3"
  },
  "language_info": {
   "codemirror_mode": {
    "name": "ipython",
    "version": 3
   },
   "file_extension": ".py",
   "mimetype": "text/x-python",
   "name": "python",
   "nbconvert_exporter": "python",
   "pygments_lexer": "ipython3",
   "version": "3.11.0"
  }
 },
 "nbformat": 4,
 "nbformat_minor": 2
}
