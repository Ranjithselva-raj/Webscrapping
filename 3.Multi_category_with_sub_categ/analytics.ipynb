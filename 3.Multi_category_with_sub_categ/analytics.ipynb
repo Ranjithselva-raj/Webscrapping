{
 "cells": [
  {
   "cell_type": "code",
   "execution_count": 3,
   "metadata": {},
   "outputs": [],
   "source": [
    "import pandas as pd\n",
    "import json\n",
    "with open (\"C:\\\\Users\\\\ranje\\\\OneDrive\\\\D_Folder\\\\Webscrapping\\\\3.Multi_category_with_sub_categ\\\\womens-clothing\\\\womens-briefs-and-boxers.json\") as file:\n",
    "    data = json.load(file)\n",
    "df = pd.DataFrame(data)"
   ]
  },
  {
   "cell_type": "code",
   "execution_count": 5,
   "metadata": {},
   "outputs": [
    {
     "name": "stdout",
     "output_type": "stream",
     "text": [
      "                                                 Name   Price   Savings  \\\n",
      "0   dekorativ hipster underwear - women's - packag...  $18.73  save 37%   \n",
      "1   lyolyte hipster bikini underwear - package of ...  $25.73  save 19%   \n",
      "2   lyolyte hi-cut bikini underwear - package of 2...  $25.73  save 19%   \n",
      "3   lyolyte g-string underwear - package of 2 - wo...  $25.73  save 19%   \n",
      "4   give-n-go 2.0 sport mesh thong underwear - wom...  $16.73  save 30%   \n",
      "5                      readydry full briefs - women's  $16.73  save 23%   \n",
      "6              boyleg briefs - women's - package of 2  $16.73  save 40%   \n",
      "7                       readydry boy shorts - women's  $16.73  save 30%   \n",
      "8             hipster bikini - women's - package of 2  $16.73  save 40%   \n",
      "9   g-string thong underwear - women's - package of 2  $16.73  save 40%   \n",
      "10               readydry hipkini underwear - women's  $16.73  save 23%   \n",
      "11  hh lifa merino midweight base layer boxers - w...  $36.73  save 26%   \n",
      "12  classic bikini underwear - women's - package of 2  $22.73  save 18%   \n",
      "13         removable inserts - women's - package of 4   $7.93  save 33%   \n",
      "14               high-rise bikini underwear - women's   $4.73  save 73%   \n",
      "\n",
      "                                                Image  \n",
      "0   https://www.rei.com/media/7e33bb93-ca68-48b9-8...  \n",
      "1   https://www.rei.com/media/e9a1dca0-806b-4348-a...  \n",
      "2   https://www.rei.com/media/2fc73b1c-975c-4601-8...  \n",
      "3   https://www.rei.com/media/3295ac9d-57ae-42ac-8...  \n",
      "4   https://www.rei.com/media/b1f48459-8382-48f7-8...  \n",
      "5   https://www.rei.com/media/01bd452d-6e4d-47b5-8...  \n",
      "6   https://www.rei.com/media/7e4d0017-b397-4622-a...  \n",
      "7   https://www.rei.com/media/1adfc83a-f2d7-4bd7-b...  \n",
      "8   https://www.rei.com/media/d6b0871c-2331-442f-8...  \n",
      "9   https://www.rei.com/media/661fd8c6-2dca-402e-8...  \n",
      "10  https://www.rei.com/media/dcdf3300-0203-4f8e-8...  \n",
      "11  https://www.rei.com/media/d5a964ef-97f3-432a-9...  \n",
      "12  https://www.rei.com/media/8d0b981a-6961-46b2-9...  \n",
      "13  https://www.rei.com/media/12e4d06e-a258-4f4e-9...  \n",
      "14  https://www.rei.com/media/72bdf86a-0bf2-425d-a...  \n"
     ]
    }
   ],
   "source": [
    "print(df)"
   ]
  }
 ],
 "metadata": {
  "kernelspec": {
   "display_name": "Python 3",
   "language": "python",
   "name": "python3"
  },
  "language_info": {
   "codemirror_mode": {
    "name": "ipython",
    "version": 3
   },
   "file_extension": ".py",
   "mimetype": "text/x-python",
   "name": "python",
   "nbconvert_exporter": "python",
   "pygments_lexer": "ipython3",
   "version": "3.11.0"
  }
 },
 "nbformat": 4,
 "nbformat_minor": 2
}
